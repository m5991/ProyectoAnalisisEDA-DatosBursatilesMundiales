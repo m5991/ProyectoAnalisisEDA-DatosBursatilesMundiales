{
 "cells": [
  {
   "cell_type": "markdown",
   "id": "e7370c85",
   "metadata": {},
   "source": [
    "# Proyecto de Análisis EDA - Datos Bursátiles Mundiales"
   ]
  },
  {
   "cell_type": "markdown",
   "id": "fc9cfee8",
   "metadata": {},
   "source": [
    "Proyecto intermedio con análisis EDA de la clase de Desarrollo de Proyectos de la Maestría en Ciencia de los Datos (MCD) de la Universidad de Guadalajara (UDG) en el Centro Universitario de Ciencias Económico Administrativas (CUCEA). "
   ]
  },
  {
   "cell_type": "markdown",
   "id": "2af245f5",
   "metadata": {},
   "source": [
    "## Contenido"
   ]
  },
  {
   "cell_type": "markdown",
   "id": "dd3c6829",
   "metadata": {},
   "source": [
    "1. Fuentes de Datos\n",
    "2. Descripción de los Datos\n",
    "3. Limpieza de datos\n",
    "4. Missing Values\n",
    "5. Visualización de Datos\n",
    "6. Referencias"
   ]
  },
  {
   "cell_type": "markdown",
   "id": "1a000c9b",
   "metadata": {},
   "source": [
    "## 1. Fuentes de datos"
   ]
  },
  {
   "cell_type": "markdown",
   "id": "2ba375b8",
   "metadata": {},
   "source": [
    "## 2. Descripción de los Datos"
   ]
  },
  {
   "cell_type": "markdown",
   "id": "2351ef69",
   "metadata": {},
   "source": [
    "## 3. Limpieza de los Datos"
   ]
  },
  {
   "cell_type": "markdown",
   "id": "9eee63e6",
   "metadata": {},
   "source": [
    "## 4. Missing Values"
   ]
  },
  {
   "cell_type": "markdown",
   "id": "e9a64c32",
   "metadata": {},
   "source": [
    "## 5. Visualización de Datos"
   ]
  },
  {
   "cell_type": "markdown",
   "id": "2b48b639",
   "metadata": {},
   "source": [
    "## 6. Referencias"
   ]
  },
  {
   "cell_type": "code",
   "execution_count": null,
   "id": "ceb31e9e",
   "metadata": {},
   "outputs": [],
   "source": []
  }
 ],
 "metadata": {
  "kernelspec": {
   "display_name": "Python 3 (ipykernel)",
   "language": "python",
   "name": "python3"
  },
  "language_info": {
   "codemirror_mode": {
    "name": "ipython",
    "version": 3
   },
   "file_extension": ".py",
   "mimetype": "text/x-python",
   "name": "python",
   "nbconvert_exporter": "python",
   "pygments_lexer": "ipython3",
   "version": "3.8.5"
  }
 },
 "nbformat": 4,
 "nbformat_minor": 5
}
