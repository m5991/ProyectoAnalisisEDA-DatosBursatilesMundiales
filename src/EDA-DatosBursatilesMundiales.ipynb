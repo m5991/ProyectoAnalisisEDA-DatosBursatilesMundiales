{
 "cells": [
  {
   "cell_type": "markdown",
   "id": "7d87569f",
   "metadata": {},
   "source": [
    "# Proyecto de Análisis EDA - Datos Bursátiles Mundiales"
   ]
  },
  {
   "cell_type": "markdown",
   "id": "39e78ded",
   "metadata": {},
   "source": [
    "Proyecto intermedio con análisis EDA de la clase de Desarrollo de Proyectos de la Maestría en Ciencia de los Datos (MCD)."
   ]
  },
  {
   "cell_type": "markdown",
   "id": "9b1af817",
   "metadata": {},
   "source": [
    "## Contenido"
   ]
  },
  {
   "cell_type": "markdown",
   "id": "9340ae43",
   "metadata": {},
   "source": [
    "1. Introducción\n",
    "2. Descripción de los Datos\n",
    "3. Limpieza de datos\n",
    "4. Missing Values\n",
    "5. Visualización de Datos\n",
    "6. Referencias"
   ]
  },
  {
   "cell_type": "markdown",
   "id": "802756ad",
   "metadata": {},
   "source": [
    "## 1. Introducción"
   ]
  },
  {
   "cell_type": "markdown",
   "id": "a95d0934",
   "metadata": {},
   "source": [
    "En este trabajo se analiza el dataset 'Stock Exchange Data' y se encuentra disponible en el siguiente [enlace](https://www.kaggle.com/datasets/mattiuzc/stock-exchange-data). Este proviene de datos recolectados en Yahoo Finance y fue publicado por Cody, un usuario de [Kaggle](https://www.kaggle.com/mattiuzc).\n",
    "\n",
    "El dataset contiene datos de precios diarios para índices que rastrean bolsas de valores de todo el mundo (Estados Unidos, China, Canadá, Alemania, Japón y más). Los precios se cotizan en términos de la moneda nacional del país donde se encuentra cada bolsa de valores, pero se incluye además el precio al cierre en dólares para cada entrada de datos.\n",
    "\n",
    "Los siguientes atributos se encuentran contenidos en el dataset:\n",
    "- **Index**. Símbolo bursátil del índice bursátil.\n",
    "- **Date**. Fecha  de la observación.\n",
    "- **Open**. Precio de apertura.\n",
    "- **High**. Precio más alto durante el día de intercambio.\n",
    "- **Low**. Precio más bajo durante el día de intercambio.\n",
    "- **Close**. Precio de cierre.\n",
    "- **Adj Close**. Precio de cierre ajustado por dividendos y splits de acciones.\n",
    "- **CloseUSD**. Precio de cierre en términos de dólares estadounidenses.\n",
    "- **Volume**. Número de acciones negociadas durante el día de negociación.\n",
    "- **Region**. País en el que se encuentra el mercado de valores.\n",
    "- **Exchange**. Nombre del mercado de valores.\n",
    "- **Currency**. Moneda en la que cotiza el índice."
   ]
  },
  {
   "cell_type": "markdown",
   "id": "f0a711a3",
   "metadata": {},
   "source": [
    "## 2. Descripción de los Datos"
   ]
  },
  {
   "cell_type": "code",
   "execution_count": 1,
   "id": "3f1479d4",
   "metadata": {},
   "outputs": [],
   "source": [
    "# Import libraries\n",
    "import pandas as pd\n",
    "import numpy as np\n",
    "\n",
    "import matplotlib.pyplot  as plt\n"
   ]
  },
  {
   "cell_type": "code",
   "execution_count": 2,
   "id": "1f6284ed",
   "metadata": {},
   "outputs": [],
   "source": [
    "# Load Datasets\n",
    "\n",
    "dire = \"../data/\"\n",
    "file1 = \"indexInfo.csv\"\n",
    "file2 = \"indexProcessed.csv\"\n",
    "\n",
    "info = pd.read_csv(dire + file1)\n",
    "df = pd.read_csv(dire + file2)"
   ]
  },
  {
   "cell_type": "code",
   "execution_count": 3,
   "id": "7024319b",
   "metadata": {
    "scrolled": true
   },
   "outputs": [
    {
     "data": {
      "text/plain": [
       "Index(['Region', 'Exchange', 'Index', 'Currency'], dtype='object')"
      ]
     },
     "execution_count": 3,
     "metadata": {},
     "output_type": "execute_result"
    }
   ],
   "source": [
    "# Variables\n",
    "info.columns"
   ]
  },
  {
   "cell_type": "code",
   "execution_count": 4,
   "id": "191210f7",
   "metadata": {},
   "outputs": [
    {
     "data": {
      "text/plain": [
       "Index(['Index', 'Date', 'Open', 'High', 'Low', 'Close', 'Adj Close', 'Volume',\n",
       "       'CloseUSD'],\n",
       "      dtype='object')"
      ]
     },
     "execution_count": 4,
     "metadata": {},
     "output_type": "execute_result"
    }
   ],
   "source": [
    "df.columns"
   ]
  },
  {
   "cell_type": "code",
   "execution_count": 5,
   "id": "361eb3b0",
   "metadata": {},
   "outputs": [
    {
     "data": {
      "text/plain": [
       "Index(['Index', 'Date', 'Open', 'High', 'Low', 'Close', 'Adj Close', 'Volume',\n",
       "       'CloseUSD', 'Region', 'Exchange', 'Currency'],\n",
       "      dtype='object')"
      ]
     },
     "execution_count": 5,
     "metadata": {},
     "output_type": "execute_result"
    }
   ],
   "source": [
    "# Se combinan ambos datasets a través de la columna Index.\n",
    "\n",
    "df = df.merge(info, on = \"Index\", how = \"inner\" )\n",
    "df.columns"
   ]
  },
  {
   "cell_type": "code",
   "execution_count": 6,
   "id": "ec9538bd",
   "metadata": {
    "scrolled": false
   },
   "outputs": [
    {
     "name": "stdout",
     "output_type": "stream",
     "text": [
      "<class 'pandas.core.frame.DataFrame'>\n",
      "Int64Index: 104224 entries, 0 to 104223\n",
      "Data columns (total 12 columns):\n",
      " #   Column     Non-Null Count   Dtype  \n",
      "---  ------     --------------   -----  \n",
      " 0   Index      104224 non-null  object \n",
      " 1   Date       104224 non-null  object \n",
      " 2   Open       104224 non-null  float64\n",
      " 3   High       104224 non-null  float64\n",
      " 4   Low        104224 non-null  float64\n",
      " 5   Close      104224 non-null  float64\n",
      " 6   Adj Close  104224 non-null  float64\n",
      " 7   Volume     104224 non-null  float64\n",
      " 8   CloseUSD   104224 non-null  float64\n",
      " 9   Region     104224 non-null  object \n",
      " 10  Exchange   104224 non-null  object \n",
      " 11  Currency   104224 non-null  object \n",
      "dtypes: float64(7), object(5)\n",
      "memory usage: 10.3+ MB\n"
     ]
    }
   ],
   "source": [
    "# Información general\n",
    "df.info()"
   ]
  },
  {
   "cell_type": "markdown",
   "id": "9bfad793",
   "metadata": {},
   "source": [
    "Se puede ver que la columna 'date' no esta siendo detectada como fecha."
   ]
  },
  {
   "cell_type": "code",
   "execution_count": 7,
   "id": "5e293ea1",
   "metadata": {},
   "outputs": [],
   "source": [
    "# Se arregla la fecha.\n",
    "\n",
    "df['Date'] = pd.to_datetime(df['Date'])  "
   ]
  },
  {
   "cell_type": "code",
   "execution_count": 8,
   "id": "3a4256b4",
   "metadata": {
    "scrolled": true
   },
   "outputs": [
    {
     "name": "stdout",
     "output_type": "stream",
     "text": [
      "<class 'pandas.core.frame.DataFrame'>\n",
      "Int64Index: 104224 entries, 0 to 104223\n",
      "Data columns (total 12 columns):\n",
      " #   Column     Non-Null Count   Dtype         \n",
      "---  ------     --------------   -----         \n",
      " 0   Index      104224 non-null  object        \n",
      " 1   Date       104224 non-null  datetime64[ns]\n",
      " 2   Open       104224 non-null  float64       \n",
      " 3   High       104224 non-null  float64       \n",
      " 4   Low        104224 non-null  float64       \n",
      " 5   Close      104224 non-null  float64       \n",
      " 6   Adj Close  104224 non-null  float64       \n",
      " 7   Volume     104224 non-null  float64       \n",
      " 8   CloseUSD   104224 non-null  float64       \n",
      " 9   Region     104224 non-null  object        \n",
      " 10  Exchange   104224 non-null  object        \n",
      " 11  Currency   104224 non-null  object        \n",
      "dtypes: datetime64[ns](1), float64(7), object(4)\n",
      "memory usage: 10.3+ MB\n"
     ]
    }
   ],
   "source": [
    "df.info()"
   ]
  },
  {
   "cell_type": "code",
   "execution_count": 9,
   "id": "1df1499a",
   "metadata": {
    "scrolled": true
   },
   "outputs": [
    {
     "data": {
      "text/html": [
       "<div>\n",
       "<style scoped>\n",
       "    .dataframe tbody tr th:only-of-type {\n",
       "        vertical-align: middle;\n",
       "    }\n",
       "\n",
       "    .dataframe tbody tr th {\n",
       "        vertical-align: top;\n",
       "    }\n",
       "\n",
       "    .dataframe thead th {\n",
       "        text-align: right;\n",
       "    }\n",
       "</style>\n",
       "<table border=\"1\" class=\"dataframe\">\n",
       "  <thead>\n",
       "    <tr style=\"text-align: right;\">\n",
       "      <th></th>\n",
       "      <th>Open</th>\n",
       "      <th>High</th>\n",
       "      <th>Low</th>\n",
       "      <th>Close</th>\n",
       "      <th>Adj Close</th>\n",
       "      <th>Volume</th>\n",
       "      <th>CloseUSD</th>\n",
       "    </tr>\n",
       "  </thead>\n",
       "  <tbody>\n",
       "    <tr>\n",
       "      <th>count</th>\n",
       "      <td>104224.000000</td>\n",
       "      <td>104224.000000</td>\n",
       "      <td>104224.000000</td>\n",
       "      <td>104224.000000</td>\n",
       "      <td>104224.000000</td>\n",
       "      <td>1.042240e+05</td>\n",
       "      <td>104224.000000</td>\n",
       "    </tr>\n",
       "    <tr>\n",
       "      <th>mean</th>\n",
       "      <td>8015.353334</td>\n",
       "      <td>8063.324234</td>\n",
       "      <td>7962.581120</td>\n",
       "      <td>8014.366642</td>\n",
       "      <td>8014.161269</td>\n",
       "      <td>1.347646e+09</td>\n",
       "      <td>3046.729177</td>\n",
       "    </tr>\n",
       "    <tr>\n",
       "      <th>std</th>\n",
       "      <td>9140.563404</td>\n",
       "      <td>9196.575802</td>\n",
       "      <td>9082.767802</td>\n",
       "      <td>9140.609758</td>\n",
       "      <td>9140.720456</td>\n",
       "      <td>4.427662e+09</td>\n",
       "      <td>3747.865623</td>\n",
       "    </tr>\n",
       "    <tr>\n",
       "      <th>min</th>\n",
       "      <td>54.869999</td>\n",
       "      <td>54.869999</td>\n",
       "      <td>54.869999</td>\n",
       "      <td>54.869999</td>\n",
       "      <td>54.869999</td>\n",
       "      <td>0.000000e+00</td>\n",
       "      <td>10.204900</td>\n",
       "    </tr>\n",
       "    <tr>\n",
       "      <th>25%</th>\n",
       "      <td>2046.887756</td>\n",
       "      <td>2057.213990</td>\n",
       "      <td>2037.185943</td>\n",
       "      <td>2047.506470</td>\n",
       "      <td>2047.358490</td>\n",
       "      <td>0.000000e+00</td>\n",
       "      <td>320.460898</td>\n",
       "    </tr>\n",
       "    <tr>\n",
       "      <th>50%</th>\n",
       "      <td>5772.140137</td>\n",
       "      <td>5812.764892</td>\n",
       "      <td>5725.199951</td>\n",
       "      <td>5773.710205</td>\n",
       "      <td>5773.710205</td>\n",
       "      <td>9.529000e+05</td>\n",
       "      <td>1371.598486</td>\n",
       "    </tr>\n",
       "    <tr>\n",
       "      <th>75%</th>\n",
       "      <td>10487.377445</td>\n",
       "      <td>10552.179690</td>\n",
       "      <td>10416.092287</td>\n",
       "      <td>10488.622560</td>\n",
       "      <td>10488.622560</td>\n",
       "      <td>2.064676e+08</td>\n",
       "      <td>4383.045241</td>\n",
       "    </tr>\n",
       "    <tr>\n",
       "      <th>max</th>\n",
       "      <td>68775.062500</td>\n",
       "      <td>69403.750000</td>\n",
       "      <td>68516.992190</td>\n",
       "      <td>68775.062500</td>\n",
       "      <td>68775.062500</td>\n",
       "      <td>9.440374e+10</td>\n",
       "      <td>18934.376173</td>\n",
       "    </tr>\n",
       "  </tbody>\n",
       "</table>\n",
       "</div>"
      ],
      "text/plain": [
       "                Open           High            Low          Close  \\\n",
       "count  104224.000000  104224.000000  104224.000000  104224.000000   \n",
       "mean     8015.353334    8063.324234    7962.581120    8014.366642   \n",
       "std      9140.563404    9196.575802    9082.767802    9140.609758   \n",
       "min        54.869999      54.869999      54.869999      54.869999   \n",
       "25%      2046.887756    2057.213990    2037.185943    2047.506470   \n",
       "50%      5772.140137    5812.764892    5725.199951    5773.710205   \n",
       "75%     10487.377445   10552.179690   10416.092287   10488.622560   \n",
       "max     68775.062500   69403.750000   68516.992190   68775.062500   \n",
       "\n",
       "           Adj Close        Volume       CloseUSD  \n",
       "count  104224.000000  1.042240e+05  104224.000000  \n",
       "mean     8014.161269  1.347646e+09    3046.729177  \n",
       "std      9140.720456  4.427662e+09    3747.865623  \n",
       "min        54.869999  0.000000e+00      10.204900  \n",
       "25%      2047.358490  0.000000e+00     320.460898  \n",
       "50%      5773.710205  9.529000e+05    1371.598486  \n",
       "75%     10488.622560  2.064676e+08    4383.045241  \n",
       "max     68775.062500  9.440374e+10   18934.376173  "
      ]
     },
     "execution_count": 9,
     "metadata": {},
     "output_type": "execute_result"
    }
   ],
   "source": [
    "## Variables cuantitativas\n",
    "df.describe()"
   ]
  },
  {
   "cell_type": "code",
   "execution_count": 10,
   "id": "861a459c",
   "metadata": {
    "scrolled": true
   },
   "outputs": [
    {
     "data": {
      "text/plain": [
       "Index           13\n",
       "Date         14657\n",
       "Open         96716\n",
       "High         96830\n",
       "Low          96663\n",
       "Close        96764\n",
       "Adj Close    97602\n",
       "Volume       50561\n",
       "CloseUSD     99179\n",
       "Region          11\n",
       "Exchange        13\n",
       "Currency        10\n",
       "dtype: int64"
      ]
     },
     "execution_count": 10,
     "metadata": {},
     "output_type": "execute_result"
    }
   ],
   "source": [
    "# Número de términos únicos por variable\n",
    "df.nunique()"
   ]
  },
  {
   "cell_type": "markdown",
   "id": "337ec9ec",
   "metadata": {},
   "source": [
    "###  Información general de la base de datos"
   ]
  },
  {
   "cell_type": "code",
   "execution_count": 11,
   "id": "25a792d9",
   "metadata": {
    "scrolled": true
   },
   "outputs": [
    {
     "name": "stdout",
     "output_type": "stream",
     "text": [
      "- El rango de fechas va desde 1965-01-05T00:00:00.000000000 hasta 2021-06-03T00:00:00.000000000.\n"
     ]
    }
   ],
   "source": [
    "# fechas\n",
    "print(\"- El rango de fechas va desde {0} hasta {1}.\".format(df.Date.unique().min(), df.Date.unique().max()))"
   ]
  },
  {
   "cell_type": "code",
   "execution_count": 12,
   "id": "b3f57f1f",
   "metadata": {},
   "outputs": [
    {
     "name": "stdout",
     "output_type": "stream",
     "text": [
      "- En la base de datos se consideraron 13 índices bursátiles distintos:\n",
      "    * HSI\n",
      "    * NYA\n",
      "    * IXIC\n",
      "    * 000001.SS\n",
      "    * N225\n",
      "    * N100\n",
      "    * 399001.SZ\n",
      "    * GSPTSE\n",
      "    * NSEI\n",
      "    * GDAXI\n",
      "    * SSMI\n",
      "    * TWII\n",
      "    * J203.JO\n"
     ]
    }
   ],
   "source": [
    "print(\"- En la base de datos se consideraron {0} índices bursátiles distintos:\".format(len(df.Exchange.unique())))\n",
    "for i in df.Index.unique():\n",
    "    print(\"    * \"+i)"
   ]
  },
  {
   "cell_type": "code",
   "execution_count": 13,
   "id": "26089c3b",
   "metadata": {
    "scrolled": true
   },
   "outputs": [
    {
     "name": "stdout",
     "output_type": "stream",
     "text": [
      "- En la base de datos se consideraron 13 bolsas de valores distintas:\n",
      "    * Hong Kong Stock Exchange\n",
      "    * New York Stock Exchange\n",
      "    * NASDAQ\n",
      "    * Shanghai Stock Exchange\n",
      "    * Tokyo Stock Exchange\n",
      "    * Euronext\n",
      "    * Shenzhen Stock Exchange\n",
      "    * Toronto Stock Exchange\n",
      "    * National Stock Exchange of India\n",
      "    * Frankfurt Stock Exchange\n",
      "    * SIX Swiss Exchange\n",
      "    * Taiwan Stock Exchange\n",
      "    * Johannesburg Stock Exchange\n"
     ]
    }
   ],
   "source": [
    "print(\"- En la base de datos se consideraron {0} bolsas de valores distintas:\".format(len(df.Exchange.unique())))\n",
    "for i in df.Exchange.unique():\n",
    "    print(\"    * \"+i)"
   ]
  },
  {
   "cell_type": "code",
   "execution_count": 14,
   "id": "3170c02e",
   "metadata": {
    "scrolled": false
   },
   "outputs": [
    {
     "name": "stdout",
     "output_type": "stream",
     "text": [
      "- El rango de Precios de Cierre (CloseUSD) va de un min 10.2048999 hasta 18934.3761734 dólares, y su promedio es 3046.73\n"
     ]
    }
   ],
   "source": [
    "# precios\n",
    "print(\"- El rango de Precios de Cierre (CloseUSD) va de un min {0} hasta {1} dólares, y su promedio es {2}\".format(df.CloseUSD.unique().min(),\n",
    "                                                                                      df.CloseUSD.unique().max(),\n",
    "                                                                 np.round(pd.to_numeric(df.CloseUSD).mean(), 2)))"
   ]
  },
  {
   "cell_type": "code",
   "execution_count": 15,
   "id": "2d27c3ef",
   "metadata": {},
   "outputs": [
    {
     "data": {
      "text/html": [
       "<div>\n",
       "<style scoped>\n",
       "    .dataframe tbody tr th:only-of-type {\n",
       "        vertical-align: middle;\n",
       "    }\n",
       "\n",
       "    .dataframe tbody tr th {\n",
       "        vertical-align: top;\n",
       "    }\n",
       "\n",
       "    .dataframe thead th {\n",
       "        text-align: right;\n",
       "    }\n",
       "</style>\n",
       "<table border=\"1\" class=\"dataframe\">\n",
       "  <thead>\n",
       "    <tr style=\"text-align: right;\">\n",
       "      <th></th>\n",
       "      <th>Index</th>\n",
       "      <th>count</th>\n",
       "      <th>min</th>\n",
       "      <th>max</th>\n",
       "      <th>Exchange</th>\n",
       "    </tr>\n",
       "  </thead>\n",
       "  <tbody>\n",
       "    <tr>\n",
       "      <th>0</th>\n",
       "      <td>000001.SS</td>\n",
       "      <td>5791</td>\n",
       "      <td>1997-07-02</td>\n",
       "      <td>2021-05-31</td>\n",
       "      <td>Shanghai Stock Exchange</td>\n",
       "    </tr>\n",
       "    <tr>\n",
       "      <th>1</th>\n",
       "      <td>399001.SZ</td>\n",
       "      <td>5760</td>\n",
       "      <td>1997-08-22</td>\n",
       "      <td>2021-06-02</td>\n",
       "      <td>Shenzhen Stock Exchange</td>\n",
       "    </tr>\n",
       "    <tr>\n",
       "      <th>2</th>\n",
       "      <td>GDAXI</td>\n",
       "      <td>8438</td>\n",
       "      <td>1987-12-30</td>\n",
       "      <td>2021-05-31</td>\n",
       "      <td>Frankfurt Stock Exchange</td>\n",
       "    </tr>\n",
       "    <tr>\n",
       "      <th>3</th>\n",
       "      <td>GSPTSE</td>\n",
       "      <td>10526</td>\n",
       "      <td>1979-06-29</td>\n",
       "      <td>2021-05-31</td>\n",
       "      <td>Toronto Stock Exchange</td>\n",
       "    </tr>\n",
       "    <tr>\n",
       "      <th>4</th>\n",
       "      <td>HSI</td>\n",
       "      <td>8492</td>\n",
       "      <td>1986-12-31</td>\n",
       "      <td>2021-05-31</td>\n",
       "      <td>Hong Kong Stock Exchange</td>\n",
       "    </tr>\n",
       "    <tr>\n",
       "      <th>5</th>\n",
       "      <td>IXIC</td>\n",
       "      <td>12690</td>\n",
       "      <td>1971-02-05</td>\n",
       "      <td>2021-05-28</td>\n",
       "      <td>NASDAQ</td>\n",
       "    </tr>\n",
       "    <tr>\n",
       "      <th>6</th>\n",
       "      <td>J203.JO</td>\n",
       "      <td>2346</td>\n",
       "      <td>2012-02-08</td>\n",
       "      <td>2021-05-31</td>\n",
       "      <td>Johannesburg Stock Exchange</td>\n",
       "    </tr>\n",
       "    <tr>\n",
       "      <th>7</th>\n",
       "      <td>N100</td>\n",
       "      <td>5474</td>\n",
       "      <td>1999-12-31</td>\n",
       "      <td>2021-06-02</td>\n",
       "      <td>Euronext</td>\n",
       "    </tr>\n",
       "    <tr>\n",
       "      <th>8</th>\n",
       "      <td>N225</td>\n",
       "      <td>13874</td>\n",
       "      <td>1965-01-05</td>\n",
       "      <td>2021-06-03</td>\n",
       "      <td>Tokyo Stock Exchange</td>\n",
       "    </tr>\n",
       "    <tr>\n",
       "      <th>9</th>\n",
       "      <td>NSEI</td>\n",
       "      <td>3346</td>\n",
       "      <td>2007-09-17</td>\n",
       "      <td>2021-05-31</td>\n",
       "      <td>National Stock Exchange of India</td>\n",
       "    </tr>\n",
       "    <tr>\n",
       "      <th>10</th>\n",
       "      <td>NYA</td>\n",
       "      <td>13947</td>\n",
       "      <td>1965-12-31</td>\n",
       "      <td>2021-05-28</td>\n",
       "      <td>New York Stock Exchange</td>\n",
       "    </tr>\n",
       "    <tr>\n",
       "      <th>11</th>\n",
       "      <td>SSMI</td>\n",
       "      <td>7671</td>\n",
       "      <td>1990-11-09</td>\n",
       "      <td>2021-05-28</td>\n",
       "      <td>SIX Swiss Exchange</td>\n",
       "    </tr>\n",
       "    <tr>\n",
       "      <th>12</th>\n",
       "      <td>TWII</td>\n",
       "      <td>5869</td>\n",
       "      <td>1997-07-02</td>\n",
       "      <td>2021-05-31</td>\n",
       "      <td>Taiwan Stock Exchange</td>\n",
       "    </tr>\n",
       "  </tbody>\n",
       "</table>\n",
       "</div>"
      ],
      "text/plain": [
       "        Index  count        min        max                          Exchange\n",
       "0   000001.SS   5791 1997-07-02 2021-05-31           Shanghai Stock Exchange\n",
       "1   399001.SZ   5760 1997-08-22 2021-06-02           Shenzhen Stock Exchange\n",
       "2       GDAXI   8438 1987-12-30 2021-05-31          Frankfurt Stock Exchange\n",
       "3      GSPTSE  10526 1979-06-29 2021-05-31            Toronto Stock Exchange\n",
       "4         HSI   8492 1986-12-31 2021-05-31          Hong Kong Stock Exchange\n",
       "5        IXIC  12690 1971-02-05 2021-05-28                            NASDAQ\n",
       "6     J203.JO   2346 2012-02-08 2021-05-31       Johannesburg Stock Exchange\n",
       "7        N100   5474 1999-12-31 2021-06-02                          Euronext\n",
       "8        N225  13874 1965-01-05 2021-06-03              Tokyo Stock Exchange\n",
       "9        NSEI   3346 2007-09-17 2021-05-31  National Stock Exchange of India\n",
       "10        NYA  13947 1965-12-31 2021-05-28           New York Stock Exchange\n",
       "11       SSMI   7671 1990-11-09 2021-05-28                SIX Swiss Exchange\n",
       "12       TWII   5869 1997-07-02 2021-05-31             Taiwan Stock Exchange"
      ]
     },
     "execution_count": 15,
     "metadata": {},
     "output_type": "execute_result"
    }
   ],
   "source": [
    "df.groupby('Index')['Date'].agg(['count','min', 'max']).merge(info[[\"Index\", \"Exchange\"]] , on = \"Index\", how = \"inner\" )"
   ]
  },
  {
   "cell_type": "markdown",
   "id": "7eeaf99c",
   "metadata": {},
   "source": [
    "## 3. Limpieza de los Datos"
   ]
  },
  {
   "cell_type": "code",
   "execution_count": 16,
   "id": "07ce826d",
   "metadata": {
    "scrolled": true
   },
   "outputs": [
    {
     "data": {
      "text/html": [
       "<div>\n",
       "<style scoped>\n",
       "    .dataframe tbody tr th:only-of-type {\n",
       "        vertical-align: middle;\n",
       "    }\n",
       "\n",
       "    .dataframe tbody tr th {\n",
       "        vertical-align: top;\n",
       "    }\n",
       "\n",
       "    .dataframe thead th {\n",
       "        text-align: right;\n",
       "    }\n",
       "</style>\n",
       "<table border=\"1\" class=\"dataframe\">\n",
       "  <thead>\n",
       "    <tr style=\"text-align: right;\">\n",
       "      <th></th>\n",
       "      <th>Index</th>\n",
       "      <th>Date</th>\n",
       "      <th>Open</th>\n",
       "      <th>High</th>\n",
       "      <th>Low</th>\n",
       "      <th>Close</th>\n",
       "      <th>Adj Close</th>\n",
       "      <th>Volume</th>\n",
       "      <th>CloseUSD</th>\n",
       "      <th>Region</th>\n",
       "      <th>Exchange</th>\n",
       "      <th>Currency</th>\n",
       "    </tr>\n",
       "  </thead>\n",
       "  <tbody>\n",
       "    <tr>\n",
       "      <th>0</th>\n",
       "      <td>HSI</td>\n",
       "      <td>1986-12-31</td>\n",
       "      <td>2568.300049</td>\n",
       "      <td>2568.300049</td>\n",
       "      <td>2568.300049</td>\n",
       "      <td>2568.300049</td>\n",
       "      <td>2568.300049</td>\n",
       "      <td>0.0</td>\n",
       "      <td>333.879006</td>\n",
       "      <td>Hong Kong</td>\n",
       "      <td>Hong Kong Stock Exchange</td>\n",
       "      <td>HKD</td>\n",
       "    </tr>\n",
       "    <tr>\n",
       "      <th>1</th>\n",
       "      <td>HSI</td>\n",
       "      <td>1987-01-02</td>\n",
       "      <td>2540.100098</td>\n",
       "      <td>2540.100098</td>\n",
       "      <td>2540.100098</td>\n",
       "      <td>2540.100098</td>\n",
       "      <td>2540.100098</td>\n",
       "      <td>0.0</td>\n",
       "      <td>330.213013</td>\n",
       "      <td>Hong Kong</td>\n",
       "      <td>Hong Kong Stock Exchange</td>\n",
       "      <td>HKD</td>\n",
       "    </tr>\n",
       "    <tr>\n",
       "      <th>2</th>\n",
       "      <td>HSI</td>\n",
       "      <td>1987-01-05</td>\n",
       "      <td>2552.399902</td>\n",
       "      <td>2552.399902</td>\n",
       "      <td>2552.399902</td>\n",
       "      <td>2552.399902</td>\n",
       "      <td>2552.399902</td>\n",
       "      <td>0.0</td>\n",
       "      <td>331.811987</td>\n",
       "      <td>Hong Kong</td>\n",
       "      <td>Hong Kong Stock Exchange</td>\n",
       "      <td>HKD</td>\n",
       "    </tr>\n",
       "    <tr>\n",
       "      <th>3</th>\n",
       "      <td>HSI</td>\n",
       "      <td>1987-01-06</td>\n",
       "      <td>2583.899902</td>\n",
       "      <td>2583.899902</td>\n",
       "      <td>2583.899902</td>\n",
       "      <td>2583.899902</td>\n",
       "      <td>2583.899902</td>\n",
       "      <td>0.0</td>\n",
       "      <td>335.906987</td>\n",
       "      <td>Hong Kong</td>\n",
       "      <td>Hong Kong Stock Exchange</td>\n",
       "      <td>HKD</td>\n",
       "    </tr>\n",
       "    <tr>\n",
       "      <th>4</th>\n",
       "      <td>HSI</td>\n",
       "      <td>1987-01-07</td>\n",
       "      <td>2607.100098</td>\n",
       "      <td>2607.100098</td>\n",
       "      <td>2607.100098</td>\n",
       "      <td>2607.100098</td>\n",
       "      <td>2607.100098</td>\n",
       "      <td>0.0</td>\n",
       "      <td>338.923013</td>\n",
       "      <td>Hong Kong</td>\n",
       "      <td>Hong Kong Stock Exchange</td>\n",
       "      <td>HKD</td>\n",
       "    </tr>\n",
       "  </tbody>\n",
       "</table>\n",
       "</div>"
      ],
      "text/plain": [
       "  Index       Date         Open         High          Low        Close  \\\n",
       "0   HSI 1986-12-31  2568.300049  2568.300049  2568.300049  2568.300049   \n",
       "1   HSI 1987-01-02  2540.100098  2540.100098  2540.100098  2540.100098   \n",
       "2   HSI 1987-01-05  2552.399902  2552.399902  2552.399902  2552.399902   \n",
       "3   HSI 1987-01-06  2583.899902  2583.899902  2583.899902  2583.899902   \n",
       "4   HSI 1987-01-07  2607.100098  2607.100098  2607.100098  2607.100098   \n",
       "\n",
       "     Adj Close  Volume    CloseUSD     Region                  Exchange  \\\n",
       "0  2568.300049     0.0  333.879006  Hong Kong  Hong Kong Stock Exchange   \n",
       "1  2540.100098     0.0  330.213013  Hong Kong  Hong Kong Stock Exchange   \n",
       "2  2552.399902     0.0  331.811987  Hong Kong  Hong Kong Stock Exchange   \n",
       "3  2583.899902     0.0  335.906987  Hong Kong  Hong Kong Stock Exchange   \n",
       "4  2607.100098     0.0  338.923013  Hong Kong  Hong Kong Stock Exchange   \n",
       "\n",
       "  Currency  \n",
       "0      HKD  \n",
       "1      HKD  \n",
       "2      HKD  \n",
       "3      HKD  \n",
       "4      HKD  "
      ]
     },
     "execution_count": 16,
     "metadata": {},
     "output_type": "execute_result"
    }
   ],
   "source": [
    "df.head()"
   ]
  },
  {
   "cell_type": "code",
   "execution_count": 17,
   "id": "bd5a05bb",
   "metadata": {
    "scrolled": true
   },
   "outputs": [
    {
     "data": {
      "text/html": [
       "<div>\n",
       "<style scoped>\n",
       "    .dataframe tbody tr th:only-of-type {\n",
       "        vertical-align: middle;\n",
       "    }\n",
       "\n",
       "    .dataframe tbody tr th {\n",
       "        vertical-align: top;\n",
       "    }\n",
       "\n",
       "    .dataframe thead th {\n",
       "        text-align: right;\n",
       "    }\n",
       "</style>\n",
       "<table border=\"1\" class=\"dataframe\">\n",
       "  <thead>\n",
       "    <tr style=\"text-align: right;\">\n",
       "      <th></th>\n",
       "      <th>Index</th>\n",
       "      <th>Date</th>\n",
       "      <th>Open</th>\n",
       "      <th>High</th>\n",
       "      <th>Low</th>\n",
       "      <th>Close</th>\n",
       "      <th>Adj Close</th>\n",
       "      <th>CloseUSD</th>\n",
       "      <th>Region</th>\n",
       "      <th>Exchange</th>\n",
       "      <th>Currency</th>\n",
       "    </tr>\n",
       "  </thead>\n",
       "  <tbody>\n",
       "    <tr>\n",
       "      <th>0</th>\n",
       "      <td>HSI</td>\n",
       "      <td>1986-12-31</td>\n",
       "      <td>2568.300049</td>\n",
       "      <td>2568.300049</td>\n",
       "      <td>2568.300049</td>\n",
       "      <td>2568.300049</td>\n",
       "      <td>2568.300049</td>\n",
       "      <td>333.879006</td>\n",
       "      <td>Hong Kong</td>\n",
       "      <td>Hong Kong Stock Exchange</td>\n",
       "      <td>HKD</td>\n",
       "    </tr>\n",
       "    <tr>\n",
       "      <th>1</th>\n",
       "      <td>HSI</td>\n",
       "      <td>1987-01-02</td>\n",
       "      <td>2540.100098</td>\n",
       "      <td>2540.100098</td>\n",
       "      <td>2540.100098</td>\n",
       "      <td>2540.100098</td>\n",
       "      <td>2540.100098</td>\n",
       "      <td>330.213013</td>\n",
       "      <td>Hong Kong</td>\n",
       "      <td>Hong Kong Stock Exchange</td>\n",
       "      <td>HKD</td>\n",
       "    </tr>\n",
       "    <tr>\n",
       "      <th>2</th>\n",
       "      <td>HSI</td>\n",
       "      <td>1987-01-05</td>\n",
       "      <td>2552.399902</td>\n",
       "      <td>2552.399902</td>\n",
       "      <td>2552.399902</td>\n",
       "      <td>2552.399902</td>\n",
       "      <td>2552.399902</td>\n",
       "      <td>331.811987</td>\n",
       "      <td>Hong Kong</td>\n",
       "      <td>Hong Kong Stock Exchange</td>\n",
       "      <td>HKD</td>\n",
       "    </tr>\n",
       "    <tr>\n",
       "      <th>3</th>\n",
       "      <td>HSI</td>\n",
       "      <td>1987-01-06</td>\n",
       "      <td>2583.899902</td>\n",
       "      <td>2583.899902</td>\n",
       "      <td>2583.899902</td>\n",
       "      <td>2583.899902</td>\n",
       "      <td>2583.899902</td>\n",
       "      <td>335.906987</td>\n",
       "      <td>Hong Kong</td>\n",
       "      <td>Hong Kong Stock Exchange</td>\n",
       "      <td>HKD</td>\n",
       "    </tr>\n",
       "    <tr>\n",
       "      <th>4</th>\n",
       "      <td>HSI</td>\n",
       "      <td>1987-01-07</td>\n",
       "      <td>2607.100098</td>\n",
       "      <td>2607.100098</td>\n",
       "      <td>2607.100098</td>\n",
       "      <td>2607.100098</td>\n",
       "      <td>2607.100098</td>\n",
       "      <td>338.923013</td>\n",
       "      <td>Hong Kong</td>\n",
       "      <td>Hong Kong Stock Exchange</td>\n",
       "      <td>HKD</td>\n",
       "    </tr>\n",
       "  </tbody>\n",
       "</table>\n",
       "</div>"
      ],
      "text/plain": [
       "  Index       Date         Open         High          Low        Close  \\\n",
       "0   HSI 1986-12-31  2568.300049  2568.300049  2568.300049  2568.300049   \n",
       "1   HSI 1987-01-02  2540.100098  2540.100098  2540.100098  2540.100098   \n",
       "2   HSI 1987-01-05  2552.399902  2552.399902  2552.399902  2552.399902   \n",
       "3   HSI 1987-01-06  2583.899902  2583.899902  2583.899902  2583.899902   \n",
       "4   HSI 1987-01-07  2607.100098  2607.100098  2607.100098  2607.100098   \n",
       "\n",
       "     Adj Close    CloseUSD     Region                  Exchange Currency  \n",
       "0  2568.300049  333.879006  Hong Kong  Hong Kong Stock Exchange      HKD  \n",
       "1  2540.100098  330.213013  Hong Kong  Hong Kong Stock Exchange      HKD  \n",
       "2  2552.399902  331.811987  Hong Kong  Hong Kong Stock Exchange      HKD  \n",
       "3  2583.899902  335.906987  Hong Kong  Hong Kong Stock Exchange      HKD  \n",
       "4  2607.100098  338.923013  Hong Kong  Hong Kong Stock Exchange      HKD  "
      ]
     },
     "execution_count": 17,
     "metadata": {},
     "output_type": "execute_result"
    }
   ],
   "source": [
    "# eliminar variable `Volume` que en su mayoría sólo tiene 0, y `ptid` que sólo cuenta con 1 valor (15.)\n",
    "try:\n",
    "    df.drop(columns=['Volume'], inplace=True)\n",
    "except:\n",
    "    next\n",
    "    \n",
    "df.head()\n",
    "\n"
   ]
  },
  {
   "cell_type": "code",
   "execution_count": 18,
   "id": "d97eb6be",
   "metadata": {
    "scrolled": false
   },
   "outputs": [
    {
     "data": {
      "text/plain": [
       "Index                object\n",
       "Date         datetime64[ns]\n",
       "Open                float64\n",
       "High                float64\n",
       "Low                 float64\n",
       "Close               float64\n",
       "Adj Close           float64\n",
       "CloseUSD            float64\n",
       "Region               object\n",
       "Exchange             object\n",
       "Currency             object\n",
       "dtype: object"
      ]
     },
     "execution_count": 18,
     "metadata": {},
     "output_type": "execute_result"
    }
   ],
   "source": [
    "# revisar tipo de variable\n",
    "df.dtypes"
   ]
  },
  {
   "cell_type": "markdown",
   "id": "88754bad",
   "metadata": {},
   "source": [
    "No hay cambios que realizar."
   ]
  },
  {
   "cell_type": "code",
   "execution_count": 19,
   "id": "82a46cb2",
   "metadata": {
    "scrolled": true
   },
   "outputs": [
    {
     "name": "stdout",
     "output_type": "stream",
     "text": [
      "<class 'pandas.core.frame.DataFrame'>\n",
      "Int64Index: 104224 entries, 0 to 104223\n",
      "Data columns (total 11 columns):\n",
      " #   Column     Non-Null Count   Dtype         \n",
      "---  ------     --------------   -----         \n",
      " 0   Index      104224 non-null  object        \n",
      " 1   Date       104224 non-null  datetime64[ns]\n",
      " 2   Open       104224 non-null  float64       \n",
      " 3   High       104224 non-null  float64       \n",
      " 4   Low        104224 non-null  float64       \n",
      " 5   Close      104224 non-null  float64       \n",
      " 6   Adj Close  104224 non-null  float64       \n",
      " 7   CloseUSD   104224 non-null  float64       \n",
      " 8   Region     104224 non-null  object        \n",
      " 9   Exchange   104224 non-null  object        \n",
      " 10  Currency   104224 non-null  object        \n",
      "dtypes: datetime64[ns](1), float64(6), object(4)\n",
      "memory usage: 9.5+ MB\n"
     ]
    }
   ],
   "source": [
    "# Información general, segunda revisión\n",
    "df.info()"
   ]
  },
  {
   "cell_type": "code",
   "execution_count": 20,
   "id": "68ae135b",
   "metadata": {},
   "outputs": [
    {
     "data": {
      "text/html": [
       "<div>\n",
       "<style scoped>\n",
       "    .dataframe tbody tr th:only-of-type {\n",
       "        vertical-align: middle;\n",
       "    }\n",
       "\n",
       "    .dataframe tbody tr th {\n",
       "        vertical-align: top;\n",
       "    }\n",
       "\n",
       "    .dataframe thead th {\n",
       "        text-align: right;\n",
       "    }\n",
       "</style>\n",
       "<table border=\"1\" class=\"dataframe\">\n",
       "  <thead>\n",
       "    <tr style=\"text-align: right;\">\n",
       "      <th></th>\n",
       "      <th>Open</th>\n",
       "      <th>High</th>\n",
       "      <th>Low</th>\n",
       "      <th>Close</th>\n",
       "      <th>Adj Close</th>\n",
       "      <th>CloseUSD</th>\n",
       "    </tr>\n",
       "  </thead>\n",
       "  <tbody>\n",
       "    <tr>\n",
       "      <th>count</th>\n",
       "      <td>104224.000000</td>\n",
       "      <td>104224.000000</td>\n",
       "      <td>104224.000000</td>\n",
       "      <td>104224.000000</td>\n",
       "      <td>104224.000000</td>\n",
       "      <td>104224.000000</td>\n",
       "    </tr>\n",
       "    <tr>\n",
       "      <th>mean</th>\n",
       "      <td>8015.353334</td>\n",
       "      <td>8063.324234</td>\n",
       "      <td>7962.581120</td>\n",
       "      <td>8014.366642</td>\n",
       "      <td>8014.161269</td>\n",
       "      <td>3046.729177</td>\n",
       "    </tr>\n",
       "    <tr>\n",
       "      <th>std</th>\n",
       "      <td>9140.563404</td>\n",
       "      <td>9196.575802</td>\n",
       "      <td>9082.767802</td>\n",
       "      <td>9140.609758</td>\n",
       "      <td>9140.720456</td>\n",
       "      <td>3747.865623</td>\n",
       "    </tr>\n",
       "    <tr>\n",
       "      <th>min</th>\n",
       "      <td>54.869999</td>\n",
       "      <td>54.869999</td>\n",
       "      <td>54.869999</td>\n",
       "      <td>54.869999</td>\n",
       "      <td>54.869999</td>\n",
       "      <td>10.204900</td>\n",
       "    </tr>\n",
       "    <tr>\n",
       "      <th>25%</th>\n",
       "      <td>2046.887756</td>\n",
       "      <td>2057.213990</td>\n",
       "      <td>2037.185943</td>\n",
       "      <td>2047.506470</td>\n",
       "      <td>2047.358490</td>\n",
       "      <td>320.460898</td>\n",
       "    </tr>\n",
       "    <tr>\n",
       "      <th>50%</th>\n",
       "      <td>5772.140137</td>\n",
       "      <td>5812.764892</td>\n",
       "      <td>5725.199951</td>\n",
       "      <td>5773.710205</td>\n",
       "      <td>5773.710205</td>\n",
       "      <td>1371.598486</td>\n",
       "    </tr>\n",
       "    <tr>\n",
       "      <th>75%</th>\n",
       "      <td>10487.377445</td>\n",
       "      <td>10552.179690</td>\n",
       "      <td>10416.092287</td>\n",
       "      <td>10488.622560</td>\n",
       "      <td>10488.622560</td>\n",
       "      <td>4383.045241</td>\n",
       "    </tr>\n",
       "    <tr>\n",
       "      <th>max</th>\n",
       "      <td>68775.062500</td>\n",
       "      <td>69403.750000</td>\n",
       "      <td>68516.992190</td>\n",
       "      <td>68775.062500</td>\n",
       "      <td>68775.062500</td>\n",
       "      <td>18934.376173</td>\n",
       "    </tr>\n",
       "  </tbody>\n",
       "</table>\n",
       "</div>"
      ],
      "text/plain": [
       "                Open           High            Low          Close  \\\n",
       "count  104224.000000  104224.000000  104224.000000  104224.000000   \n",
       "mean     8015.353334    8063.324234    7962.581120    8014.366642   \n",
       "std      9140.563404    9196.575802    9082.767802    9140.609758   \n",
       "min        54.869999      54.869999      54.869999      54.869999   \n",
       "25%      2046.887756    2057.213990    2037.185943    2047.506470   \n",
       "50%      5772.140137    5812.764892    5725.199951    5773.710205   \n",
       "75%     10487.377445   10552.179690   10416.092287   10488.622560   \n",
       "max     68775.062500   69403.750000   68516.992190   68775.062500   \n",
       "\n",
       "           Adj Close       CloseUSD  \n",
       "count  104224.000000  104224.000000  \n",
       "mean     8014.161269    3046.729177  \n",
       "std      9140.720456    3747.865623  \n",
       "min        54.869999      10.204900  \n",
       "25%      2047.358490     320.460898  \n",
       "50%      5773.710205    1371.598486  \n",
       "75%     10488.622560    4383.045241  \n",
       "max     68775.062500   18934.376173  "
      ]
     },
     "execution_count": 20,
     "metadata": {},
     "output_type": "execute_result"
    }
   ],
   "source": [
    "## Variables cuantitativas, segunda revisión\n",
    "df.describe()"
   ]
  },
  {
   "cell_type": "markdown",
   "id": "dc2a5e0b",
   "metadata": {},
   "source": [
    "## 4. Missing Values"
   ]
  },
  {
   "cell_type": "code",
   "execution_count": 21,
   "id": "4510c117",
   "metadata": {
    "scrolled": true
   },
   "outputs": [
    {
     "data": {
      "text/plain": [
       "Index        0\n",
       "Date         0\n",
       "Open         0\n",
       "High         0\n",
       "Low          0\n",
       "Close        0\n",
       "Adj Close    0\n",
       "CloseUSD     0\n",
       "Region       0\n",
       "Exchange     0\n",
       "Currency     0\n",
       "dtype: int64"
      ]
     },
     "execution_count": 21,
     "metadata": {},
     "output_type": "execute_result"
    }
   ],
   "source": [
    "# Revisar los missing values\n",
    "df.isnull().sum()"
   ]
  },
  {
   "cell_type": "markdown",
   "id": "845b7748",
   "metadata": {},
   "source": [
    "Ninguna de las variables tienen valores nulos (NaN)."
   ]
  },
  {
   "cell_type": "markdown",
   "id": "d5c89a62",
   "metadata": {},
   "source": [
    "## 5. Visualización de Datos"
   ]
  },
  {
   "cell_type": "code",
   "execution_count": 22,
   "id": "1965fc44",
   "metadata": {},
   "outputs": [
    {
     "data": {
      "image/png": "[encoded data removed]",
      "text/plain": [
       "<Figure size 720x432 with 1 Axes>"
      ]
     },
     "metadata": {
      "needs_background": "light"
     },
     "output_type": "display_data"
    }
   ],
   "source": [
    "dates = sorted(df.Date.unique())\n",
    "\n",
    "exchanges = df.Exchange.unique()\n",
    "fig = plt.figure(figsize=(10,6))\n",
    "\n",
    "NUM_COLORS = len(df.Exchange.unique())\n",
    "cm = plt.get_cmap('gist_rainbow')\n",
    "ax = fig.add_subplot(111)\n",
    "ax.set_prop_cycle(color=[cm(1.*i/NUM_COLORS) for i in range(NUM_COLORS)])\n",
    "\n",
    "for i in exchanges:\n",
    "    temp = df[df.Exchange == i][['Date', 'CloseUSD']]\n",
    "    ax.plot(temp.Date, temp.CloseUSD, label = i)\n",
    "\n",
    "plt.title(\"Datos bursátiles del mundo\")\n",
    "plt.xlabel(\"Fecha\")\n",
    "plt.ylabel(\"Precio al cierre en dólares\")\n",
    "\n",
    "\n",
    "#get handles and labels\n",
    "handles, labels = plt.gca().get_legend_handles_labels()\n",
    "\n",
    "#specify order of items in legend\n",
    "order = [9,7,1,2,10,0,3,4,5,6,8,11]\n",
    "\n",
    "#add legend to plot\n",
    "plt.legend([handles[idx] for idx in order],[labels[idx] for idx in order]) \n",
    "\n",
    "fig.savefig('../results/stocks.png')\n"
   ]
  },
  {
   "cell_type": "markdown",
   "id": "7264cdf7",
   "metadata": {},
   "source": [
    "## 6. Referencias"
   ]
  },
  {
   "cell_type": "markdown",
   "id": "b06e2e5c",
   "metadata": {},
   "source": [
    "- Stock Exchange. Cody. Kaggle. https://www.kaggle.com/datasets/mattiuzc/stock-exchange\n",
    "- Actividad 13. https://github.com/vcuspinera/UDG_MCD_Project_Dev_II/blob/main/actividades/13_EDA.ipynb"
   ]
  }
 ],
 "metadata": {
  "kernelspec": {
   "display_name": "Python 3 (ipykernel)",
   "language": "python",
   "name": "python3"
  },
  "language_info": {
   "codemirror_mode": {
    "name": "ipython",
    "version": 3
   },
   "file_extension": ".py",
   "mimetype": "text/x-python",
   "name": "python",
   "nbconvert_exporter": "python",
   "pygments_lexer": "ipython3",
   "version": "3.8.5"
  }
 },
 "nbformat": 4,
 "nbformat_minor": 5
}
