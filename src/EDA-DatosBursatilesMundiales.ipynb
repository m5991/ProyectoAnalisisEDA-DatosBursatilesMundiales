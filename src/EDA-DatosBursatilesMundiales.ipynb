{
 "cells": [
  {
   "cell_type": "markdown",
   "id": "2fa7c8b9",
   "metadata": {},
   "source": [
    "# Proyecto de Análisis EDA - Datos Bursátiles Mundiales"
   ]
  },
  {
   "cell_type": "markdown",
   "id": "df36ddb2",
   "metadata": {},
   "source": [
    "Proyecto intermedio con análisis EDA de la clase de Desarrollo de Proyectos de la Maestría en Ciencia de los Datos (MCD) de la Universidad de Guadalajara (UDG) en el Centro Universitario de Ciencias Económico Administrativas (CUCEA). "
   ]
  },
  {
   "cell_type": "markdown",
   "id": "27afb44c",
   "metadata": {},
   "source": [
    "## Contenido"
   ]
  },
  {
   "cell_type": "markdown",
   "id": "e1fd5207",
   "metadata": {},
   "source": [
    "1. Introducción\n",
    "2. Descripción de los Datos\n",
    "3. Limpieza de datos\n",
    "4. Missing Values\n",
    "5. Visualización de Datos\n",
    "6. Referencias"
   ]
  },
  {
   "cell_type": "markdown",
   "id": "ea626f5e",
   "metadata": {},
   "source": [
    "## 1. Introducción"
   ]
  },
  {
   "cell_type": "markdown",
   "id": "07af7c26",
   "metadata": {},
   "source": [
    "## 2. Descripción de los Datos"
   ]
  },
  {
   "cell_type": "code",
   "execution_count": 65,
   "id": "1e42e3a0",
   "metadata": {},
   "outputs": [],
   "source": [
    "# Import libraries\n",
    "import pandas as pd\n",
    "import numpy as np"
   ]
  },
  {
   "cell_type": "code",
   "execution_count": 39,
   "id": "105d086c",
   "metadata": {},
   "outputs": [],
   "source": [
    "# Load Datasets\n",
    "\n",
    "dire = \"../data/\"\n",
    "file1 = \"indexInfo.csv\"\n",
    "file2 = \"indexProcessed.csv\"\n",
    "\n",
    "info = pd.read_csv(dire + file1)\n",
    "df = pd.read_csv(dire + file2)"
   ]
  },
  {
   "cell_type": "code",
   "execution_count": 42,
   "id": "51b86daa",
   "metadata": {
    "scrolled": true
   },
   "outputs": [
    {
     "data": {
      "text/plain": [
       "Index(['Region', 'Exchange', 'Index', 'Currency'], dtype='object')"
      ]
     },
     "execution_count": 42,
     "metadata": {},
     "output_type": "execute_result"
    }
   ],
   "source": [
    "# Variables\n",
    "info.columns"
   ]
  },
  {
   "cell_type": "code",
   "execution_count": 43,
   "id": "83a2d08f",
   "metadata": {},
   "outputs": [
    {
     "data": {
      "text/plain": [
       "Index(['Index', 'Date', 'Open', 'High', 'Low', 'Close', 'Adj Close', 'Volume',\n",
       "       'CloseUSD'],\n",
       "      dtype='object')"
      ]
     },
     "execution_count": 43,
     "metadata": {},
     "output_type": "execute_result"
    }
   ],
   "source": [
    "df.columns"
   ]
  },
  {
   "cell_type": "code",
   "execution_count": 50,
   "id": "26b9b2dc",
   "metadata": {},
   "outputs": [
    {
     "data": {
      "text/plain": [
       "Index(['Index', 'Date', 'Open', 'High', 'Low', 'Close', 'Adj Close', 'Volume',\n",
       "       'CloseUSD', 'Region', 'Exchange', 'Currency'],\n",
       "      dtype='object')"
      ]
     },
     "execution_count": 50,
     "metadata": {},
     "output_type": "execute_result"
    }
   ],
   "source": [
    "# Se combinan ambos datasets a través de la columna Index.\n",
    "\n",
    "df = df.merge(info, on = \"Index\", how = \"inner\" )\n",
    "df.columns"
   ]
  },
  {
   "cell_type": "code",
   "execution_count": 51,
   "id": "bfe98dfd",
   "metadata": {
    "scrolled": false
   },
   "outputs": [
    {
     "name": "stdout",
     "output_type": "stream",
     "text": [
      "<class 'pandas.core.frame.DataFrame'>\n",
      "Int64Index: 104224 entries, 0 to 104223\n",
      "Data columns (total 12 columns):\n",
      " #   Column     Non-Null Count   Dtype         \n",
      "---  ------     --------------   -----         \n",
      " 0   Index      104224 non-null  object        \n",
      " 1   Date       104224 non-null  datetime64[ns]\n",
      " 2   Open       104224 non-null  float64       \n",
      " 3   High       104224 non-null  float64       \n",
      " 4   Low        104224 non-null  float64       \n",
      " 5   Close      104224 non-null  float64       \n",
      " 6   Adj Close  104224 non-null  float64       \n",
      " 7   Volume     104224 non-null  float64       \n",
      " 8   CloseUSD   104224 non-null  float64       \n",
      " 9   Region     104224 non-null  object        \n",
      " 10  Exchange   104224 non-null  object        \n",
      " 11  Currency   104224 non-null  object        \n",
      "dtypes: datetime64[ns](1), float64(7), object(4)\n",
      "memory usage: 10.3+ MB\n"
     ]
    }
   ],
   "source": [
    "# Información general\n",
    "df.info()"
   ]
  },
  {
   "cell_type": "markdown",
   "id": "3cda93ea",
   "metadata": {},
   "source": [
    "Se puede ver que la columna 'date' no esta siendo detectada como fecha."
   ]
  },
  {
   "cell_type": "code",
   "execution_count": 52,
   "id": "75f65527",
   "metadata": {},
   "outputs": [],
   "source": [
    "# Se arregla la fecha.\n",
    "\n",
    "df['Date'] = pd.to_datetime(df['Date'])  "
   ]
  },
  {
   "cell_type": "code",
   "execution_count": 53,
   "id": "9e426c11",
   "metadata": {
    "scrolled": true
   },
   "outputs": [
    {
     "name": "stdout",
     "output_type": "stream",
     "text": [
      "<class 'pandas.core.frame.DataFrame'>\n",
      "Int64Index: 104224 entries, 0 to 104223\n",
      "Data columns (total 12 columns):\n",
      " #   Column     Non-Null Count   Dtype         \n",
      "---  ------     --------------   -----         \n",
      " 0   Index      104224 non-null  object        \n",
      " 1   Date       104224 non-null  datetime64[ns]\n",
      " 2   Open       104224 non-null  float64       \n",
      " 3   High       104224 non-null  float64       \n",
      " 4   Low        104224 non-null  float64       \n",
      " 5   Close      104224 non-null  float64       \n",
      " 6   Adj Close  104224 non-null  float64       \n",
      " 7   Volume     104224 non-null  float64       \n",
      " 8   CloseUSD   104224 non-null  float64       \n",
      " 9   Region     104224 non-null  object        \n",
      " 10  Exchange   104224 non-null  object        \n",
      " 11  Currency   104224 non-null  object        \n",
      "dtypes: datetime64[ns](1), float64(7), object(4)\n",
      "memory usage: 10.3+ MB\n"
     ]
    }
   ],
   "source": [
    "df.info()"
   ]
  },
  {
   "cell_type": "code",
   "execution_count": 54,
   "id": "448df869",
   "metadata": {
    "scrolled": true
   },
   "outputs": [
    {
     "data": {
      "text/html": [
       "<div>\n",
       "<style scoped>\n",
       "    .dataframe tbody tr th:only-of-type {\n",
       "        vertical-align: middle;\n",
       "    }\n",
       "\n",
       "    .dataframe tbody tr th {\n",
       "        vertical-align: top;\n",
       "    }\n",
       "\n",
       "    .dataframe thead th {\n",
       "        text-align: right;\n",
       "    }\n",
       "</style>\n",
       "<table border=\"1\" class=\"dataframe\">\n",
       "  <thead>\n",
       "    <tr style=\"text-align: right;\">\n",
       "      <th></th>\n",
       "      <th>Open</th>\n",
       "      <th>High</th>\n",
       "      <th>Low</th>\n",
       "      <th>Close</th>\n",
       "      <th>Adj Close</th>\n",
       "      <th>Volume</th>\n",
       "      <th>CloseUSD</th>\n",
       "    </tr>\n",
       "  </thead>\n",
       "  <tbody>\n",
       "    <tr>\n",
       "      <th>count</th>\n",
       "      <td>104224.000000</td>\n",
       "      <td>104224.000000</td>\n",
       "      <td>104224.000000</td>\n",
       "      <td>104224.000000</td>\n",
       "      <td>104224.000000</td>\n",
       "      <td>1.042240e+05</td>\n",
       "      <td>104224.000000</td>\n",
       "    </tr>\n",
       "    <tr>\n",
       "      <th>mean</th>\n",
       "      <td>8015.353334</td>\n",
       "      <td>8063.324234</td>\n",
       "      <td>7962.581120</td>\n",
       "      <td>8014.366642</td>\n",
       "      <td>8014.161269</td>\n",
       "      <td>1.347646e+09</td>\n",
       "      <td>3046.729177</td>\n",
       "    </tr>\n",
       "    <tr>\n",
       "      <th>std</th>\n",
       "      <td>9140.563404</td>\n",
       "      <td>9196.575802</td>\n",
       "      <td>9082.767802</td>\n",
       "      <td>9140.609758</td>\n",
       "      <td>9140.720456</td>\n",
       "      <td>4.427662e+09</td>\n",
       "      <td>3747.865623</td>\n",
       "    </tr>\n",
       "    <tr>\n",
       "      <th>min</th>\n",
       "      <td>54.869999</td>\n",
       "      <td>54.869999</td>\n",
       "      <td>54.869999</td>\n",
       "      <td>54.869999</td>\n",
       "      <td>54.869999</td>\n",
       "      <td>0.000000e+00</td>\n",
       "      <td>10.204900</td>\n",
       "    </tr>\n",
       "    <tr>\n",
       "      <th>25%</th>\n",
       "      <td>2046.887756</td>\n",
       "      <td>2057.213990</td>\n",
       "      <td>2037.185943</td>\n",
       "      <td>2047.506470</td>\n",
       "      <td>2047.358490</td>\n",
       "      <td>0.000000e+00</td>\n",
       "      <td>320.460898</td>\n",
       "    </tr>\n",
       "    <tr>\n",
       "      <th>50%</th>\n",
       "      <td>5772.140137</td>\n",
       "      <td>5812.764892</td>\n",
       "      <td>5725.199951</td>\n",
       "      <td>5773.710205</td>\n",
       "      <td>5773.710205</td>\n",
       "      <td>9.529000e+05</td>\n",
       "      <td>1371.598486</td>\n",
       "    </tr>\n",
       "    <tr>\n",
       "      <th>75%</th>\n",
       "      <td>10487.377445</td>\n",
       "      <td>10552.179690</td>\n",
       "      <td>10416.092287</td>\n",
       "      <td>10488.622560</td>\n",
       "      <td>10488.622560</td>\n",
       "      <td>2.064676e+08</td>\n",
       "      <td>4383.045241</td>\n",
       "    </tr>\n",
       "    <tr>\n",
       "      <th>max</th>\n",
       "      <td>68775.062500</td>\n",
       "      <td>69403.750000</td>\n",
       "      <td>68516.992190</td>\n",
       "      <td>68775.062500</td>\n",
       "      <td>68775.062500</td>\n",
       "      <td>9.440374e+10</td>\n",
       "      <td>18934.376173</td>\n",
       "    </tr>\n",
       "  </tbody>\n",
       "</table>\n",
       "</div>"
      ],
      "text/plain": [
       "                Open           High            Low          Close  \\\n",
       "count  104224.000000  104224.000000  104224.000000  104224.000000   \n",
       "mean     8015.353334    8063.324234    7962.581120    8014.366642   \n",
       "std      9140.563404    9196.575802    9082.767802    9140.609758   \n",
       "min        54.869999      54.869999      54.869999      54.869999   \n",
       "25%      2046.887756    2057.213990    2037.185943    2047.506470   \n",
       "50%      5772.140137    5812.764892    5725.199951    5773.710205   \n",
       "75%     10487.377445   10552.179690   10416.092287   10488.622560   \n",
       "max     68775.062500   69403.750000   68516.992190   68775.062500   \n",
       "\n",
       "           Adj Close        Volume       CloseUSD  \n",
       "count  104224.000000  1.042240e+05  104224.000000  \n",
       "mean     8014.161269  1.347646e+09    3046.729177  \n",
       "std      9140.720456  4.427662e+09    3747.865623  \n",
       "min        54.869999  0.000000e+00      10.204900  \n",
       "25%      2047.358490  0.000000e+00     320.460898  \n",
       "50%      5773.710205  9.529000e+05    1371.598486  \n",
       "75%     10488.622560  2.064676e+08    4383.045241  \n",
       "max     68775.062500  9.440374e+10   18934.376173  "
      ]
     },
     "execution_count": 54,
     "metadata": {},
     "output_type": "execute_result"
    }
   ],
   "source": [
    "## Variables cuantitativas\n",
    "df.describe()"
   ]
  },
  {
   "cell_type": "code",
   "execution_count": 55,
   "id": "ce92bd4e",
   "metadata": {
    "scrolled": true
   },
   "outputs": [
    {
     "data": {
      "text/plain": [
       "Index           13\n",
       "Date         14657\n",
       "Open         96716\n",
       "High         96830\n",
       "Low          96663\n",
       "Close        96764\n",
       "Adj Close    97602\n",
       "Volume       50561\n",
       "CloseUSD     99179\n",
       "Region          11\n",
       "Exchange        13\n",
       "Currency        10\n",
       "dtype: int64"
      ]
     },
     "execution_count": 55,
     "metadata": {},
     "output_type": "execute_result"
    }
   ],
   "source": [
    "# Número de términos únicos por variable\n",
    "df.nunique()"
   ]
  },
  {
   "cell_type": "markdown",
   "id": "9236320c",
   "metadata": {},
   "source": [
    "###  Información general de la base de datos"
   ]
  },
  {
   "cell_type": "code",
   "execution_count": 57,
   "id": "d29bc56c",
   "metadata": {
    "scrolled": true
   },
   "outputs": [
    {
     "name": "stdout",
     "output_type": "stream",
     "text": [
      "- El rango de fechas va desde 1965-01-05T00:00:00.000000000 hasta 2021-06-03T00:00:00.000000000.\n"
     ]
    }
   ],
   "source": [
    "# fechas\n",
    "print(\"- El rango de fechas va desde {0} hasta {1}.\".format(df.Date.unique().min(), df.Date.unique().max()))"
   ]
  },
  {
   "cell_type": "code",
   "execution_count": 63,
   "id": "a1503aad",
   "metadata": {
    "scrolled": true
   },
   "outputs": [
    {
     "name": "stdout",
     "output_type": "stream",
     "text": [
      "- En la base de datos se consideraron 13 bolsas de valores distintas:\n",
      "    * Hong Kong Stock Exchange\n",
      "    * New York Stock Exchange\n",
      "    * NASDAQ\n",
      "    * Shanghai Stock Exchange\n",
      "    * Tokyo Stock Exchange\n",
      "    * Euronext\n",
      "    * Shenzhen Stock Exchange\n",
      "    * Toronto Stock Exchange\n",
      "    * National Stock Exchange of India\n",
      "    * Frankfurt Stock Exchange\n",
      "    * SIX Swiss Exchange\n",
      "    * Taiwan Stock Exchange\n",
      "    * Johannesburg Stock Exchange\n"
     ]
    }
   ],
   "source": [
    "print(\"- En la base de datos se consideraron {0} bolsas de valores distintas:\".format(len(df.Exchange.unique())))\n",
    "for i in df.Exchange.unique():\n",
    "    print(\"    * \"+i)"
   ]
  },
  {
   "cell_type": "code",
   "execution_count": 68,
   "id": "c7d66593",
   "metadata": {},
   "outputs": [
    {
     "name": "stdout",
     "output_type": "stream",
     "text": [
      "- El rango de Precios de Cierre (CloseUSD) va de un min 10.2048999 hasta 18934.3761734 dólares, y su promedio es 3046.73\n"
     ]
    }
   ],
   "source": [
    "# precios\n",
    "print(\"- El rango de Precios de Cierre (CloseUSD) va de un min {0} hasta {1} dólares, y su promedio es {2}\".format(df.CloseUSD.unique().min(),\n",
    "                                                                                      df.CloseUSD.unique().max(),\n",
    "                                                                 np.round(pd.to_numeric(df.CloseUSD).mean(), 2)))"
   ]
  },
  {
   "cell_type": "markdown",
   "id": "7b827b30",
   "metadata": {},
   "source": [
    "## 3. Limpieza de los Datos"
   ]
  },
  {
   "cell_type": "markdown",
   "id": "07f2c99f",
   "metadata": {},
   "source": [
    "## 4. Missing Values"
   ]
  },
  {
   "cell_type": "code",
   "execution_count": 69,
   "id": "068b9efc",
   "metadata": {
    "scrolled": true
   },
   "outputs": [
    {
     "data": {
      "text/plain": [
       "Index        0\n",
       "Date         0\n",
       "Open         0\n",
       "High         0\n",
       "Low          0\n",
       "Close        0\n",
       "Adj Close    0\n",
       "Volume       0\n",
       "CloseUSD     0\n",
       "Region       0\n",
       "Exchange     0\n",
       "Currency     0\n",
       "dtype: int64"
      ]
     },
     "execution_count": 69,
     "metadata": {},
     "output_type": "execute_result"
    }
   ],
   "source": [
    "# Revisar los missing values\n",
    "df.isnull().sum()\n",
    "\n"
   ]
  },
  {
   "cell_type": "markdown",
   "id": "4fa88f52",
   "metadata": {},
   "source": [
    "Ninguna de las variables tienen valores nulos (NaN)."
   ]
  },
  {
   "cell_type": "markdown",
   "id": "d96659a7",
   "metadata": {},
   "source": [
    "## 5. Visualización de Datos"
   ]
  },
  {
   "cell_type": "markdown",
   "id": "80ce2737",
   "metadata": {},
   "source": [
    "## 6. Referencias"
   ]
  },
  {
   "cell_type": "code",
   "execution_count": null,
   "id": "bf83592b",
   "metadata": {},
   "outputs": [],
   "source": []
  }
 ],
 "metadata": {
  "kernelspec": {
   "display_name": "Python 3 (ipykernel)",
   "language": "python",
   "name": "python3"
  },
  "language_info": {
   "codemirror_mode": {
    "name": "ipython",
    "version": 3
   },
   "file_extension": ".py",
   "mimetype": "text/x-python",
   "name": "python",
   "nbconvert_exporter": "python",
   "pygments_lexer": "ipython3",
   "version": "3.8.5"
  }
 },
 "nbformat": 4,
 "nbformat_minor": 5
}
